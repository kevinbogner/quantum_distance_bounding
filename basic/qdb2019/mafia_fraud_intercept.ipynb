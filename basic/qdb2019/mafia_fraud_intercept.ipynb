{
 "cells": [
  {
   "cell_type": "code",
   "execution_count": 4,
   "metadata": {},
   "outputs": [],
   "source": [
    "from numpy.random import randint\n",
    "import numpy as np\n",
    "import sys\n",
    "\n",
    "sys.path.append(\"..\")\n",
    "from common_functions import encode_message, decode_message"
   ]
  },
  {
   "cell_type": "code",
   "execution_count": 5,
   "metadata": {},
   "outputs": [],
   "source": [
    "n = 1000"
   ]
  },
  {
   "cell_type": "code",
   "execution_count": 6,
   "metadata": {},
   "outputs": [
    {
     "name": "stdout",
     "output_type": "stream",
     "text": [
      "a bases: [1 0 0 1 1 0 0 1 0 0 0 0 0 0 1 0 0 0 0 1 1 0 0 1 0 1 0 0 0 1 0 0 0 0 0 1 0\n",
      " 0 0 0 1 1 0 0 1 0 1 1 0 0 0 0 0 0 1 0 0 1 1 0 0 1 1 1 0 1 1 1 1 1 1 1 0 0\n",
      " 0 1 0 0 0 0 0 0 1 0 1 0 1 1 0 1 1 0 1 1 0 0 0 0 0 1 1 1 1 1 0 0 1 1 1 0 0\n",
      " 0 1 0 1 1 1 1 0 0 1 1 1 0 1 0 1 0 1 1 0 1 0 1 1 1 0 0 1 1 0 1 1 0 1 0 1 1\n",
      " 0 0 1 0 0 1 0 1 1 1 0 0 1 0 1 1 1 1 1 0 1 1 1 1 1 0 0 1 0 1 0 1 0 1 1 1 1\n",
      " 1 1 0 0 1 1 1 0 0 0 1 0 0 1 1 1 1 1 1 0 1 0 0 0 0 1 1 0 1 1 0 0 0 1 1 1 0\n",
      " 0 1 0 0 1 1 0 0 0 1 0 1 1 0 0 0 1 0 1 0 1 1 1 1 1 0 1 1 1 0 1 0 0 1 0 0 0\n",
      " 0 1 0 0 0 0 0 1 1 0 1 0 0 0 1 1 1 1 0 0 0 1 1 1 1 1 1 1 0 0 0 1 1 1 1 1 0\n",
      " 1 0 1 0 1 1 1 1 1 0 1 0 1 1 0 0 1 0 1 0 0 0 0 1 1 0 0 0 0 1 1 0 1 1 0 0 0\n",
      " 0 1 1 0 0 1 0 0 1 1 0 0 0 1 0 1 0 0 0 1 0 0 0 0 1 1 0 1 1 1 0 0 1 0 1 0 0\n",
      " 0 0 1 0 0 0 1 1 1 0 0 0 1 0 0 1 0 1 0 1 1 0 0 0 1 0 0 1 0 0 1 0 0 0 1 0 0\n",
      " 1 1 0 1 1 0 1 0 1 1 0 1 0 0 0 0 0 0 1 1 0 0 0 1 1 1 0 0 0 1 0 1 0 1 0 0 0\n",
      " 0 1 1 0 0 1 0 1 1 1 0 1 1 1 0 1 0 1 1 1 1 1 1 1 1 0 1 0 1 0 1 1 0 0 0 1 0\n",
      " 1 1 1 1 0 0 0 1 1 0 0 0 0 0 1 0 1 0 1 1 0 0 1 0 0 0 1 1 0 1 0 1 1 1 1 0 0\n",
      " 0 0 1 1 1 1 0 1 0 0 0 0 1 1 1 1 1 0 1 1 0 0 0 1 1 1 0 0 1 0 1 0 1 1 0 0 1\n",
      " 1 0 1 0 0 1 0 0 0 1 0 0 0 0 0 1 0 1 1 0 0 1 0 0 1 0 1 0 1 0 0 0 0 0 0 0 1\n",
      " 0 1 1 1 0 1 1 1 1 1 0 0 0 0 1 0 0 1 1 0 0 1 1 0 1 0 1 1 0 0 0 1 1 0 0 0 0\n",
      " 1 1 1 1 0 0 0 1 1 1 1 1 1 0 0 0 1 0 0 1 0 0 0 1 0 0 0 1 0 1 0 0 0 0 1 0 0\n",
      " 0 0 0 0 1 0 1 1 0 0 0 0 1 1 0 1 0 0 0 0 0 1 0 0 1 0 0 0 1 1 1 0 1 0 0 0 0\n",
      " 1 0 0 1 1 0 1 1 1 1 0 1 0 1 1 0 1 1 0 1 0 0 1 1 1 1 0 1 0 1 1 0 1 1 1 0 0\n",
      " 1 0 0 0 1 0 1 0 0 0 1 0 0 0 1 0 0 0 1 0 0 0 1 1 0 0 0 0 1 0 0 1 1 1 1 0 1\n",
      " 1 0 0 0 1 1 0 0 0 0 0 0 0 0 0 1 0 1 0 1 0 1 1 1 1 1 0 1 0 0 0 1 1 1 1 0 0\n",
      " 1 1 1 0 0 1 0 1 1 0 1 1 0 0 0 1 0 0 1 1 0 0 1 0 0 0 1 1 0 0 0 1 0 1 0 0 1\n",
      " 1 1 0 0 0 1 1 1 0 1 0 1 1 0 0 0 1 1 0 0 0 1 1 1 0 0 1 0 0 1 0 1 1 1 0 0 1\n",
      " 1 0 0 0 1 1 0 1 1 1 1 0 1 1 1 1 0 0 1 0 0 0 1 0 0 1 1 1 1 1 0 1 0 0 1 1 1\n",
      " 0 1 0 1 1 1 1 1 1 0 0 0 0 0 1 1 0 1 1 1 0 0 0 1 0 1 0 0 1 1 0 1 1 0 1 1 0\n",
      " 0 0 0 1 0 0 1 1 1 0 1 0 1 1 0 1 0 1 0 0 1 0 1 0 0 0 1 0 0 0 0 0 1 1 0 1 1\n",
      " 1]\n",
      "\n",
      "b bases: [1 1 1 0 1 0 1 1 1 1 1 0 0 1 0 1 1 0 1 1 0 1 1 1 1 0 0 0 1 1 1 1 0 1 0 1 0\n",
      " 0 0 1 0 1 1 0 1 0 1 1 1 0 1 1 0 0 1 1 1 0 0 1 1 0 0 1 1 1 1 0 1 0 0 1 0 0\n",
      " 1 0 0 0 0 1 1 0 0 1 1 1 0 1 0 0 0 0 0 1 0 1 0 0 0 0 1 0 1 0 0 0 0 1 1 0 1\n",
      " 1 0 1 1 0 0 1 1 1 0 0 0 1 0 0 1 0 0 1 1 1 1 1 1 0 0 1 1 0 1 1 0 1 1 1 1 1\n",
      " 1 0 0 0 0 1 1 1 0 0 0 0 0 1 1 0 0 0 1 1 1 0 1 0 1 1 1 1 0 1 1 1 1 0 0 0 1\n",
      " 1 0 1 0 0 0 1 0 1 0 1 1 1 1 1 0 0 0 0 1 0 1 0 0 0 1 0 0 0 0 1 1 0 0 0 0 1\n",
      " 0 1 1 1 0 0 0 1 0 0 0 1 0 0 1 0 1 1 1 0 0 0 1 0 0 1 1 0 0 1 1 0 0 0 0 1 0\n",
      " 0 1 0 0 0 1 1 0 0 0 1 1 1 0 1 0 0 1 0 0 1 1 0 0 1 0 0 0 1 1 0 0 1 1 1 1 0\n",
      " 1 0 0 1 0 1 0 0 0 0 0 1 0 1 0 1 1 0 1 0 0 1 0 0 1 0 0 1 0 0 1 0 1 1 0 1 1\n",
      " 1 0 1 0 1 1 0 1 0 0 0 1 1 1 0 1 1 1 0 1 0 0 0 1 0 1 0 1 0 1 1 0 1 1 0 0 1\n",
      " 0 0 0 1 0 0 0 0 1 0 1 1 1 1 0 1 0 1 0 0 0 1 1 1 1 0 1 0 1 1 1 0 1 0 1 0 1\n",
      " 0 0 0 1 0 1 0 0 1 0 0 1 1 1 0 1 0 1 0 1 1 0 0 0 0 1 0 1 1 0 1 1 0 1 1 1 1\n",
      " 1 0 0 1 0 1 1 0 1 0 1 1 0 1 1 1 1 1 1 1 1 0 1 1 1 0 1 0 0 1 1 0 0 0 1 0 1\n",
      " 1 0 0 0 0 1 1 0 1 0 0 1 1 0 1 1 0 0 0 0 0 0 0 1 1 1 0 1 1 1 0 0 1 0 0 0 0\n",
      " 1 1 1 1 0 0 0 1 1 1 1 1 0 1 1 0 0 0 1 0 0 1 1 1 0 1 0 1 0 0 1 1 0 0 0 0 1\n",
      " 1 0 1 1 0 0 1 0 1 1 1 1 1 0 0 1 0 1 0 1 0 1 1 1 0 1 1 1 0 1 1 1 1 1 1 1 1\n",
      " 0 0 1 1 1 1 0 1 0 0 1 1 0 1 1 1 0 1 1 0 1 1 1 1 0 1 1 0 1 0 0 1 0 1 0 0 1\n",
      " 1 0 1 0 1 0 1 0 1 0 1 0 0 0 1 1 0 1 0 0 0 0 0 1 1 1 0 0 1 0 1 1 0 1 1 1 0\n",
      " 1 0 1 1 0 0 0 1 1 0 0 1 0 1 0 0 1 0 1 0 0 1 1 1 1 0 0 0 0 1 1 1 1 0 1 1 1\n",
      " 0 0 1 1 0 1 1 0 1 1 1 0 0 1 0 0 1 1 0 1 1 0 1 0 1 1 1 0 0 1 0 0 0 1 0 0 1\n",
      " 1 1 0 1 1 0 1 1 0 0 1 0 0 1 0 1 0 1 1 1 0 1 1 1 1 1 0 0 1 1 0 0 0 1 1 1 0\n",
      " 1 1 1 1 1 0 1 1 0 1 1 0 1 0 1 1 1 0 1 1 0 0 0 0 0 1 0 0 1 1 1 1 1 0 0 0 0\n",
      " 1 0 0 1 0 0 1 0 0 1 0 0 1 1 1 0 0 0 1 1 1 1 1 1 1 0 1 0 0 0 0 0 0 1 1 1 0\n",
      " 1 1 0 1 1 0 0 0 0 1 0 0 0 0 1 1 1 1 0 1 0 1 0 1 0 1 0 0 1 0 0 1 0 1 1 1 1\n",
      " 0 0 0 1 0 0 0 1 0 1 0 1 1 1 1 1 1 0 0 0 1 0 1 1 0 1 0 1 0 1 0 0 0 0 1 0 1\n",
      " 1 0 0 0 1 0 0 0 1 1 1 0 0 1 0 1 1 1 0 0 0 0 0 0 0 1 0 1 0 1 0 1 0 0 1 1 0\n",
      " 0 1 1 1 0 0 0 0 0 1 1 1 0 1 1 1 0 0 0 1 0 0 1 0 1 0 1 0 0 1 1 1 0 1 0 0 0\n",
      " 1]\n",
      "\n",
      "c bits: [0 1 1 1 1 0 1 1 1 0 0 1 0 0 1 0 0 0 1 1 0 1 1 0 0 0 0 0 1 0 0 1 1 0 1 0 1\n",
      " 1 1 0 1 1 1 0 0 1 1 1 0 0 1 1 0 1 1 1 0 0 1 0 1 1 1 1 0 0 1 0 1 0 0 0 0 0\n",
      " 1 1 1 0 0 1 0 1 0 0 1 1 0 1 1 1 1 0 0 0 0 1 0 1 1 0 0 1 0 0 1 1 0 0 0 0 1\n",
      " 0 0 1 1 1 1 0 0 0 0 1 0 0 1 0 1 0 0 1 1 0 0 1 0 1 0 0 0 0 0 1 0 0 1 0 1 0\n",
      " 0 1 1 0 1 0 1 1 0 1 0 0 1 0 0 1 0 0 0 0 1 0 0 1 0 0 1 1 0 0 1 1 0 0 0 0 1\n",
      " 1 1 1 1 1 0 1 0 1 1 0 0 1 1 1 0 0 0 0 1 0 1 0 0 0 0 1 1 1 1 1 0 0 0 1 1 1\n",
      " 1 1 1 0 0 1 1 0 1 0 1 0 0 1 0 0 1 0 1 0 1 0 0 0 1 1 1 0 0 0 0 1 0 1 1 1 0\n",
      " 0 1 0 0 1 1 1 0 1 1 0 0 0 1 0 0 1 1 1 0 1 1 1 1 1 1 1 0 0 1 0 0 1 1 1 1 0\n",
      " 0 1 0 1 1 0 0 1 0 1 0 0 0 1 0 1 0 1 1 1 1 0 1 1 1 0 1 0 0 0 1 0 0 1 1 0 1\n",
      " 0 1 1 1 1 0 1 1 1 1 1 0 1 0 1 0 1 0 0 1 0 1 1 0 0 0 1 1 0 1 0 0 0 0 1 0 0\n",
      " 0 1 1 1 1 1 1 1 1 0 0 1 0 0 1 1 1 0 0 1 0 0 0 0 0 1 0 0 1 0 0 1 0 1 1 1 1\n",
      " 1 0 0 0 1 0 0 1 1 1 1 0 1 0 1 0 0 0 0 0 0 1 1 1 0 0 1 1 1 1 1 0 0 1 0 1 0\n",
      " 1 0 0 0 1 1 0 1 0 1 0 1 0 0 1 0 1 0 0 0 0 0 0 0 1 0 1 0 1 1 0 1 0 1 0 1 0\n",
      " 0 1 1 0 1 1 0 0 1 1 1 1 1 0 1 0 0 1 1 1 0 1 1 1 0 1 0 0 1 1 0 1 0 0 0 0 1\n",
      " 0 1 0 0 0 1 0 1 0 0 0 0 1 0 1 0 0 1 0 0 0 1 1 0 1 0 0 1 1 1 0 0 1 1 0 0 1\n",
      " 1 0 0 0 1 1 0 0 0 0 0 0 1 0 1 0 1 1 1 1 1 1 1 0 0 1 1 0 1 0 1 1 0 1 0 1 1\n",
      " 0 0 0 1 0 1 1 1 0 0 1 1 1 0 1 0 0 1 1 0 0 0 1 0 1 1 0 1 1 1 1 0 1 1 0 0 0\n",
      " 1 0 0 1 1 0 1 1 1 0 1 1 0 0 0 1 1 0 0 1 0 1 1 0 1 0 0 1 1 0 0 0 1 0 0 1 0\n",
      " 1 0 0 1 1 1 1 1 1 0 1 1 1 1 0 1 1 1 1 1 0 0 0 0 0 0 0 0 0 1 0 0 1 1 0 1 1\n",
      " 0 1 0 1 0 1 1 1 0 0 1 0 0 0 1 0 0 1 1 0 0 0 1 1 0 0 1 1 1 1 1 0 1 1 1 0 1\n",
      " 1 0 0 0 0 1 0 1 1 1 0 1 0 1 1 0 1 0 0 0 0 1 0 0 0 0 0 1 1 0 0 1 0 0 0 0 1\n",
      " 0 1 0 0 0 0 0 0 0 1 1 0 1 0 0 1 0 1 0 0 0 0 1 0 1 0 1 1 1 1 0 1 1 1 0 1 0\n",
      " 1 0 0 1 0 0 1 0 1 0 0 1 0 0 0 0 0 1 0 0 1 0 1 1 1 1 1 0 0 1 0 0 1 1 1 1 0\n",
      " 0 1 1 1 1 1 1 0 1 1 1 0 1 0 0 1 0 1 0 0 1 0 1 0 1 1 0 1 0 1 1 1 1 0 1 0 0\n",
      " 1 1 1 0 1 0 1 0 0 0 0 1 1 1 0 1 0 0 1 0 1 1 0 1 0 0 1 0 1 1 1 1 0 0 1 0 0\n",
      " 1 0 0 1 0 1 1 1 0 0 0 0 1 0 1 0 1 0 1 0 0 0 0 1 0 0 1 0 0 0 0 0 1 0 0 0 0\n",
      " 1 1 1 1 0 0 1 1 1 0 1 1 1 1 1 0 0 0 0 1 0 1 0 0 0 0 0 1 1 1 1 0 1 1 0 1 0\n",
      " 0]\n",
      "\n",
      "Eve's a bases: [1 1 0 0 0 0 1 1 1 1 0 1 0 0 1 0 1 0 1 0 1 1 1 0 1 1 0 0 1 1 1 0 0 1 0 0 1\n",
      " 0 0 0 1 1 0 1 1 0 1 0 1 1 0 1 0 1 1 1 0 1 1 0 0 0 0 0 0 1 0 1 1 0 0 1 0 0\n",
      " 1 0 0 1 1 1 0 0 0 1 1 1 0 0 1 1 0 0 1 1 0 1 1 1 1 1 1 0 1 0 0 1 0 1 0 1 1\n",
      " 0 1 1 0 0 0 1 1 0 1 0 1 0 1 1 0 1 0 0 0 0 0 0 1 0 1 0 1 1 0 0 0 0 1 0 1 0\n",
      " 1 0 0 0 0 1 1 0 0 1 0 1 0 1 1 0 1 0 0 0 0 0 0 0 1 1 1 0 1 0 1 1 1 0 1 0 1\n",
      " 1 1 0 1 0 0 0 0 0 0 0 0 0 1 1 1 1 1 1 1 0 0 1 0 0 1 0 0 0 0 1 0 0 1 0 0 0\n",
      " 1 1 0 1 0 1 1 0 0 1 0 0 0 1 0 0 0 1 1 0 1 1 1 0 1 1 0 0 0 1 0 0 1 0 1 1 0\n",
      " 1 1 1 1 1 1 0 1 0 0 0 0 1 0 0 1 1 1 0 0 1 0 1 1 0 0 1 0 0 0 1 1 0 0 0 1 1\n",
      " 1 1 0 1 0 0 0 0 1 1 1 1 0 0 0 0 0 0 1 1 0 1 0 1 1 0 0 1 1 0 0 0 1 0 1 0 0\n",
      " 1 1 1 0 1 1 0 1 0 0 1 1 0 1 1 0 1 0 1 0 0 1 1 0 1 1 1 1 1 1 0 1 0 0 1 0 1\n",
      " 0 0 1 0 1 0 0 0 0 1 1 0 0 0 1 0 0 1 0 1 0 1 0 0 1 1 1 1 1 1 0 0 1 1 0 1 0\n",
      " 1 0 0 0 1 0 1 1 1 1 0 1 1 1 0 0 1 0 1 1 0 0 1 1 1 1 1 1 0 1 0 1 0 0 0 0 0\n",
      " 1 1 0 1 0 1 0 1 1 1 1 0 1 0 0 0 0 0 1 0 1 0 0 1 1 1 0 0 0 1 0 0 1 0 1 0 0\n",
      " 1 0 1 0 0 1 0 1 0 1 1 1 0 1 1 1 1 0 0 0 0 0 0 0 0 1 1 0 1 0 1 0 0 0 1 0 1\n",
      " 1 0 0 0 1 1 0 1 1 0 1 0 0 0 1 1 0 0 1 0 0 1 0 1 0 0 1 1 0 0 1 0 1 0 1 0 1\n",
      " 0 0 0 1 1 1 1 1 0 0 1 0 1 1 1 1 1 0 1 1 0 0 1 0 1 1 1 1 0 0 1 1 1 0 0 0 1\n",
      " 0 0 0 0 1 1 0 1 0 1 0 1 1 1 1 1 1 0 1 0 1 1 0 0 1 1 0 1 1 1 0 1 1 1 0 1 0\n",
      " 1 1 1 1 1 1 1 0 0 0 0 1 1 0 0 1 0 1 0 0 0 0 1 0 0 0 1 1 0 0 0 0 0 1 0 1 1\n",
      " 1 0 1 0 1 1 0 0 0 1 1 0 1 0 0 0 0 0 1 1 0 1 1 1 1 1 0 1 1 0 0 1 0 1 1 0 0\n",
      " 1 1 0 0 1 0 0 1 0 0 0 1 0 0 1 1 1 0 0 0 0 0 1 1 0 1 1 0 1 0 0 1 1 1 1 0 0\n",
      " 0 1 1 0 0 0 0 0 0 1 1 1 1 1 0 1 0 1 0 0 0 1 0 0 0 1 0 1 0 0 1 1 1 0 0 1 0\n",
      " 1 0 1 0 1 1 0 1 1 0 0 0 1 0 0 0 1 1 1 1 1 0 0 1 1 1 0 0 1 0 1 1 1 0 0 0 0\n",
      " 1 0 1 0 1 0 0 1 0 0 1 1 1 1 0 1 0 0 0 0 0 1 1 0 0 0 0 0 1 1 0 0 1 1 0 1 0\n",
      " 0 1 1 0 0 1 1 1 1 0 0 1 1 0 0 1 1 0 0 1 0 1 0 1 0 1 0 0 1 1 0 1 0 1 1 1 1\n",
      " 0 0 0 1 1 1 1 0 0 0 1 0 0 0 0 0 1 1 1 0 1 1 0 1 0 0 0 1 1 0 1 0 1 1 1 1 1\n",
      " 1 0 1 1 0 1 0 0 0 0 0 1 0 0 0 1 1 1 0 0 1 1 1 1 0 1 0 0 0 1 0 0 1 1 0 1 0\n",
      " 0 0 1 0 1 1 0 1 0 1 1 0 1 1 1 1 0 0 0 1 1 1 0 1 1 1 0 0 0 0 1 0 0 0 0 0 0\n",
      " 0]\n",
      "\n",
      "Eve's b bases: [1 0 0 1 0 1 1 1 0 0 0 0 0 0 1 1 0 0 1 0 0 0 1 1 1 0 1 0 1 1 1 0 0 1 1 1 1\n",
      " 0 0 1 0 0 0 1 1 0 0 0 0 0 0 0 1 0 0 1 0 1 0 1 1 1 1 0 1 1 1 1 0 1 1 1 0 0\n",
      " 0 1 0 1 0 1 1 1 1 0 0 1 1 0 0 1 1 1 1 1 0 0 0 1 0 0 1 1 0 1 0 0 0 0 0 1 1\n",
      " 1 1 1 0 0 1 1 0 1 1 1 0 0 0 0 1 0 0 0 0 0 0 0 0 0 1 1 1 0 1 1 1 1 1 0 0 0\n",
      " 1 0 0 1 1 0 1 1 1 1 1 1 0 0 1 1 1 0 1 0 1 0 0 1 1 1 0 0 1 0 1 1 1 0 1 0 0\n",
      " 0 0 0 1 0 0 1 0 0 1 1 1 0 0 1 0 0 1 0 1 1 0 1 0 0 0 0 1 1 1 1 1 0 0 1 1 0\n",
      " 0 1 0 0 1 1 1 1 0 1 0 1 1 1 1 1 1 1 0 1 1 0 1 0 0 0 1 0 1 0 0 1 1 0 1 0 0\n",
      " 0 1 1 0 0 1 0 1 0 0 0 1 1 0 1 0 1 1 0 1 1 0 1 1 1 0 1 1 1 0 0 1 0 1 1 0 1\n",
      " 0 1 0 1 0 1 0 1 0 1 1 0 0 0 0 1 1 0 0 0 1 0 1 0 0 1 0 0 0 0 0 0 0 1 1 0 1\n",
      " 0 1 1 0 0 1 0 0 0 1 1 1 0 1 1 1 1 1 0 1 0 1 0 1 0 0 0 0 0 0 1 1 0 0 0 0 0\n",
      " 1 1 0 1 0 1 1 1 1 1 1 1 1 1 0 0 0 0 0 1 1 0 0 0 1 0 0 0 0 1 1 0 0 0 1 0 1\n",
      " 0 1 0 0 1 0 1 0 0 0 1 0 1 0 0 1 0 0 0 0 1 1 0 1 1 1 0 0 0 0 0 1 0 1 0 0 1\n",
      " 0 1 1 1 0 0 1 1 0 0 1 1 1 1 1 1 1 1 1 1 1 1 0 0 1 0 1 0 1 0 1 1 1 0 1 0 1\n",
      " 0 1 1 0 0 0 0 0 1 1 0 0 1 0 0 0 0 1 0 1 0 0 1 0 1 1 0 1 1 1 1 0 1 0 0 0 0\n",
      " 1 0 0 0 0 0 0 0 1 1 1 0 1 1 1 0 1 1 0 0 0 0 1 0 0 0 0 1 0 0 1 1 0 1 0 0 1\n",
      " 0 0 1 0 1 1 1 1 0 0 1 0 1 1 1 1 0 1 0 0 0 1 1 1 1 1 0 0 1 1 1 1 0 0 0 1 1\n",
      " 0 1 1 1 1 0 0 1 1 0 0 1 0 1 1 0 1 0 1 0 1 0 0 0 0 0 0 0 0 0 1 1 1 1 1 0 0\n",
      " 0 0 1 1 0 1 0 1 0 0 1 1 0 1 1 1 0 0 0 1 0 1 0 1 1 1 0 0 1 0 0 0 1 1 0 1 1\n",
      " 0 1 0 0 1 0 1 1 1 1 1 0 1 0 0 1 0 1 0 1 0 1 1 1 0 1 0 1 0 0 1 1 0 1 0 0 0\n",
      " 1 1 1 0 1 0 0 0 0 1 1 0 1 0 1 1 1 1 0 1 1 1 0 0 0 1 0 0 0 1 1 1 1 1 1 0 1\n",
      " 0 0 1 1 0 1 1 0 1 1 0 0 0 0 0 1 0 1 0 0 1 1 1 1 1 0 0 1 0 0 0 0 0 0 1 0 0\n",
      " 0 0 1 1 1 1 0 1 1 0 0 1 0 0 1 1 0 1 1 0 0 0 0 1 1 1 1 0 1 0 0 0 0 0 1 1 1\n",
      " 1 1 0 1 1 1 1 0 0 0 1 1 1 0 0 1 1 1 0 0 0 1 1 0 1 0 0 1 0 1 0 1 1 0 1 1 1\n",
      " 0 1 0 1 0 0 1 1 1 1 0 0 0 1 0 1 1 0 0 0 1 1 1 0 0 1 0 1 1 0 0 0 1 1 1 0 0\n",
      " 0 1 0 1 0 0 1 0 0 1 0 0 0 0 0 0 0 0 1 1 0 0 0 1 0 1 1 0 1 0 0 1 0 1 0 0 0\n",
      " 0 0 1 1 0 0 1 1 1 0 1 1 1 0 1 0 1 0 1 0 0 0 0 1 0 1 1 0 0 1 1 1 0 1 0 0 0\n",
      " 0 0 1 1 1 1 1 1 0 0 0 1 0 1 0 0 1 1 1 1 0 0 1 0 1 0 0 1 1 1 0 0 1 0 0 1 0\n",
      " 1]\n"
     ]
    }
   ],
   "source": [
    "# Verifier and Prover generate n random bases a and b\n",
    "a_bases = randint(2, size=n)\n",
    "print(\"a bases:\", a_bases)\n",
    "b_bases = randint(2, size=n)\n",
    "print(\"\\nb bases:\", b_bases)\n",
    "\n",
    "# Verifier generates n random challenger-bits c\n",
    "c_bits = randint(2, size=n)\n",
    "print(\"\\nc bits:\", c_bits)\n",
    "\n",
    "# Eve guesses random bases a and b\n",
    "e_bases_a = randint(2, size=n)\n",
    "print(\"\\nEve's a bases:\", e_bases_a)\n",
    "e_bases_b = randint(2, size=n)\n",
    "print(\"\\nEve's b bases:\", e_bases_b)"
   ]
  },
  {
   "cell_type": "code",
   "execution_count": 7,
   "metadata": {},
   "outputs": [
    {
     "data": {
      "image/png": "[encoded data removed]",
      "text/plain": [
       "<Figure size 269.064x200.667 with 1 Axes>"
      ]
     },
     "execution_count": 7,
     "metadata": {},
     "output_type": "execute_result"
    }
   ],
   "source": [
    "# Encode c in a\n",
    "message = encode_message(c_bits, a_bases, n)\n",
    "\n",
    "# Draw the circuit bit 0\n",
    "message[0].draw(output=\"mpl\")"
   ]
  },
  {
   "cell_type": "code",
   "execution_count": 8,
   "metadata": {},
   "outputs": [
    {
     "name": "stdout",
     "output_type": "stream",
     "text": [
      "\n",
      "c' bits: [0, 0, 1, 1, 1, 0, 0, 1, 0, 0, 0, 0, 0, 0, 1, 0, 0, 0, 0, 1, 0, 1, 0, 1, 0, 0, 0, 0, 0, 0, 1, 1, 1, 0, 1, 1, 1, 1, 1, 0, 1, 1, 1, 0, 0, 1, 1, 1, 1, 1, 1, 1, 0, 1, 1, 1, 0, 0, 1, 0, 1, 0, 1, 1, 0, 0, 1, 0, 1, 0, 1, 0, 0, 0, 1, 0, 1, 1, 1, 1, 0, 1, 1, 1, 1, 1, 0, 0, 0, 1, 0, 0, 0, 0, 0, 1, 1, 1, 1, 0, 0, 1, 0, 1, 1, 0, 0, 0, 0, 0, 0, 0, 0, 0, 1, 0, 0, 0, 1, 0, 0, 0, 0, 0, 1, 1, 0, 0, 0, 1, 1, 1, 0, 0, 0, 0, 1, 0, 0, 0, 0, 0, 0, 0, 1, 0, 1, 1, 1, 1, 0, 0, 1, 0, 1, 1, 1, 1, 0, 0, 0, 0, 0, 0, 0, 1, 0, 0, 0, 1, 0, 0, 0, 1, 0, 0, 1, 1, 0, 1, 1, 0, 0, 0, 1, 1, 1, 1, 1, 1, 0, 1, 0, 1, 1, 0, 0, 1, 1, 1, 0, 0, 0, 0, 0, 1, 1, 1, 0, 0, 0, 1, 1, 0, 0, 0, 0, 0, 0, 0, 1, 1, 1, 1, 1, 1, 0, 1, 0, 0, 1, 0, 1, 1, 0, 1, 0, 0, 1, 1, 1, 0, 1, 0, 0, 1, 1, 0, 1, 1, 1, 1, 1, 1, 1, 0, 0, 1, 0, 0, 1, 0, 1, 0, 1, 1, 0, 1, 1, 1, 0, 0, 1, 0, 0, 1, 1, 1, 0, 0, 0, 1, 1, 0, 0, 1, 0, 0, 1, 1, 0, 1, 1, 1, 1, 1, 0, 1, 0, 0, 1, 1, 1, 1, 0, 0, 0, 1, 0, 0, 0, 1, 0, 1, 1, 1, 1, 0, 1, 1, 1, 0, 1, 1, 1, 1, 1, 0, 0, 0, 1, 0, 1, 1, 1, 1, 1, 0, 0, 1, 0, 1, 1, 1, 1, 1, 0, 1, 1, 1, 0, 1, 0, 0, 1, 1, 0, 0, 0, 1, 1, 0, 1, 0, 0, 0, 0, 1, 0, 1, 0, 1, 1, 1, 0, 1, 1, 1, 0, 0, 0, 1, 1, 0, 1, 0, 1, 0, 0, 1, 0, 0, 0, 0, 0, 1, 1, 0, 1, 1, 1, 1, 1, 0, 1, 1, 1, 1, 0, 0, 1, 1, 0, 0, 0, 1, 1, 1, 0, 0, 1, 1, 0, 0, 0, 0, 0, 0, 1, 1, 1, 0, 0, 1, 1, 1, 1, 1, 0, 0, 1, 0, 1, 0, 0, 0, 1, 0, 1, 1, 0, 1, 0, 1, 0, 0, 0, 0, 1, 1, 1, 1, 0, 0, 0, 0, 0, 0, 1, 0, 0, 0, 0, 1, 0, 1, 1, 1, 1, 0, 0, 0, 0, 1, 1, 1, 0, 0, 0, 1, 0, 1, 0, 1, 1, 1, 0, 0, 1, 1, 1, 0, 1, 0, 1, 0, 1, 0, 0, 0, 0, 1, 0, 1, 0, 0, 0, 1, 0, 1, 1, 1, 0, 1, 0, 1, 1, 0, 1, 0, 0, 0, 1, 0, 1, 1, 0, 0, 0, 0, 1, 0, 0, 1, 1, 1, 0, 1, 0, 0, 1, 1, 1, 0, 1, 0, 0, 0, 1, 0, 1, 1, 0, 0, 0, 0, 0, 1, 0, 1, 0, 0, 1, 1, 1, 1, 0, 1, 0, 0, 1, 1, 1, 0, 0, 0, 1, 0, 1, 0, 1, 1, 0, 1, 0, 1, 0, 1, 1, 1, 1, 0, 1, 1, 1, 0, 1, 0, 1, 1, 1, 0, 0, 0, 0, 0, 1, 1, 0, 1, 0, 1, 1, 0, 1, 0, 0, 1, 0, 1, 0, 0, 1, 1, 1, 0, 0, 0, 0, 0, 1, 0, 0, 0, 0, 0, 1, 0, 0, 0, 1, 0, 0, 1, 0, 1, 1, 1, 0, 0, 0, 1, 1, 1, 0, 0, 1, 0, 0, 1, 1, 0, 0, 0, 1, 0, 1, 1, 1, 0, 0, 0, 1, 1, 1, 0, 0, 0, 1, 0, 0, 0, 0, 0, 0, 0, 1, 1, 0, 0, 0, 1, 1, 0, 0, 0, 0, 0, 1, 0, 1, 0, 0, 1, 0, 0, 0, 1, 1, 0, 1, 1, 0, 0, 0, 1, 1, 1, 0, 0, 0, 1, 1, 1, 0, 1, 1, 1, 0, 1, 1, 1, 1, 0, 1, 1, 1, 1, 1, 1, 0, 0, 0, 0, 0, 1, 1, 0, 0, 0, 0, 1, 1, 1, 0, 0, 0, 0, 1, 0, 1, 1, 0, 1, 0, 0, 1, 0, 1, 0, 0, 0, 0, 0, 0, 1, 1, 1, 0, 0, 0, 0, 1, 0, 1, 1, 0, 0, 1, 1, 0, 1, 0, 1, 1, 0, 1, 1, 1, 1, 0, 0, 1, 0, 1, 1, 0, 1, 0, 1, 1, 0, 1, 0, 0, 1, 1, 1, 0, 0, 0, 1, 1, 0, 1, 1, 1, 1, 1, 1, 1, 1, 0, 0, 0, 1, 1, 1, 1, 0, 0, 0, 1, 0, 1, 1, 1, 1, 0, 1, 0, 1, 0, 1, 0, 0, 1, 0, 0, 0, 0, 1, 0, 1, 0, 1, 1, 1, 1, 1, 1, 1, 1, 1, 0, 0, 1, 0, 0, 1, 1, 0, 1, 0, 0, 0, 1, 1, 0, 1, 0, 1, 0, 0, 1, 0, 1, 0, 0, 0, 0, 1, 0, 0, 0, 0, 1, 1, 1, 0, 0, 1, 1, 0, 0, 0, 1, 0, 1, 1, 1, 1, 1, 0, 0, 0, 0, 1, 0, 0, 0, 0, 0, 1, 0, 0, 0, 0, 1, 0, 0, 1, 0, 0, 0, 0, 0, 1, 0, 1, 0, 0, 1, 1, 1, 1, 0, 1, 0, 1, 0, 1, 1, 1, 1, 1, 1, 0, 0, 0, 0, 1, 0, 0, 0, 0, 0, 0, 1, 1, 1, 1, 0, 0, 0, 0, 0, 1, 1, 1]\n"
     ]
    }
   ],
   "source": [
    "# Eve decodes the qubits in the guessed bases a and store them as c'\n",
    "c_prime_bits = decode_message(message, e_bases_a, n)\n",
    "print(\"\\nc' bits:\", c_prime_bits)"
   ]
  },
  {
   "cell_type": "code",
   "execution_count": 9,
   "metadata": {},
   "outputs": [
    {
     "name": "stdout",
     "output_type": "stream",
     "text": [
      "False\n",
      "\n",
      "Eve's success rate: 0.636000\n"
     ]
    }
   ],
   "source": [
    "# Eve re-encode the qubits in the guessed bases b and sends them to the Verifier\n",
    "message_back = encode_message(c_prime_bits, e_bases_b, n)\n",
    "\n",
    "# Verifier decodes the message in the bases b and store them as c''\n",
    "c_prime_two_bits = decode_message(message_back, b_bases, n)\n",
    "\n",
    "# Verifier compares c and c''\n",
    "print(np.array_equal(c_bits, c_prime_two_bits))\n",
    "\n",
    "# Loop through each bit if they are the same increase the counter and divide the counter by n\n",
    "counter = 0\n",
    "for i in range(n):\n",
    "    if c_bits[i] == c_prime_two_bits[i]:\n",
    "        counter += 1\n",
    "success_rate = counter / n\n",
    "print(f\"\\nEve's success rate: {success_rate:.6f}\")"
   ]
  }
 ],
 "metadata": {
  "kernelspec": {
   "display_name": ".venv",
   "language": "python",
   "name": "python3"
  },
  "language_info": {
   "codemirror_mode": {
    "name": "ipython",
    "version": 3
   },
   "file_extension": ".py",
   "mimetype": "text/x-python",
   "name": "python",
   "nbconvert_exporter": "python",
   "pygments_lexer": "ipython3",
   "version": "3.12.9"
  }
 },
 "nbformat": 4,
 "nbformat_minor": 2
}
