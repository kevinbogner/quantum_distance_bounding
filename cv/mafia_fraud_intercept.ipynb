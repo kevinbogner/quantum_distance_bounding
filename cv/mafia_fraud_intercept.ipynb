{
 "cells": [
  {
   "cell_type": "code",
   "execution_count": 1,
   "metadata": {},
   "outputs": [
    {
     "name": "stdout",
     "output_type": "stream",
     "text": [
      "  When a_i = 0 (x_A & x_B): 0.499509\n",
      "  When a_i = 1 (x_A & p_B): 0.496785\n"
     ]
    }
   ],
   "source": [
    "import strawberryfields as sf\n",
    "from strawberryfields.ops import S2gate, Rgate, MeasureHomodyne\n",
    "import numpy as np\n",
    "import pandas as pd\n",
    "\n",
    "num_runs = 100000\n",
    "r = 10.0\n",
    "rotation_angle = np.pi / 2\n",
    "a_i = np.random.randint(0, 2, size=num_runs)\n",
    "b_i = np.random.randint(0, 2, size=num_runs)\n",
    "\n",
    "verifier_x_A = []\n",
    "received_x_B = []\n",
    "received_p_B = []\n",
    "\n",
    "eng = sf.Engine(\"gaussian\")\n",
    "\n",
    "for i in range(num_runs):\n",
    "    prog = sf.Program(2)\n",
    "    with prog.context as q:\n",
    "        S2gate(r) | (q[0], q[1])\n",
    "        MeasureHomodyne(0) | q[0]\n",
    "        # Prover operation based on b_i\n",
    "        if b_i[i] == 1:\n",
    "            Rgate(rotation_angle) | q[1]\n",
    "        if a_i[i] == 0:\n",
    "            MeasureHomodyne(0) | q[1]\n",
    "        else:\n",
    "            MeasureHomodyne(np.pi/2) | q[1]\n",
    "\n",
    "    result = eng.run(prog)\n",
    "    A_x_val = result.samples[0][0]\n",
    "    B_val = result.samples[0][1]\n",
    "    verifier_x_A.append(A_x_val)\n",
    "    if a_i[i] == 0:\n",
    "        received_x_B.append(B_val)\n",
    "        received_p_B.append(np.nan)\n",
    "    else:\n",
    "        received_x_B.append(np.nan)\n",
    "        received_p_B.append(B_val)\n",
    "\n",
    "verifier_x_A = np.array(verifier_x_A)\n",
    "received_x_B = np.array(received_x_B)\n",
    "received_p_B = np.array(received_p_B)\n",
    "\n",
    "valid_response = ~np.isnan(verifier_x_A)\n",
    "\n",
    "indices_a0 = np.where((a_i == 0) & valid_response & ~np.isnan(received_x_B))[0]\n",
    "indices_a1 = np.where((a_i == 1) & valid_response & ~np.isnan(received_p_B))[0]\n",
    "\n",
    "def calculate_covariance(X, Y):\n",
    "    return np.mean(X * Y) - np.mean(X)*np.mean(Y)\n",
    "\n",
    "def calculate_correlation(X, Y):\n",
    "    cov = calculate_covariance(X, Y)\n",
    "    std_X = np.sqrt(np.mean(X**2) - np.mean(X)**2)\n",
    "    std_Y = np.sqrt(np.mean(Y**2) - np.mean(Y)**2)\n",
    "    return cov / (std_X * std_Y)\n",
    "\n",
    "corr_x_A_a0_x_B = calculate_correlation(verifier_x_A[indices_a0], received_x_B[indices_a0])\n",
    "corr_x_A_a1_p_B = calculate_correlation(verifier_x_A[indices_a1], received_p_B[indices_a1])\n",
    "\n",
    "print(f\"  When a_i = 0 (x_A & x_B): {corr_x_A_a0_x_B:.6f}\")\n",
    "print(f\"  When a_i = 1 (x_A & p_B): {corr_x_A_a1_p_B:.6f}\")\n"
   ]
  }
 ],
 "metadata": {
  "kernelspec": {
   "display_name": "strawberryfields_env",
   "language": "python",
   "name": "python3"
  },
  "language_info": {
   "codemirror_mode": {
    "name": "ipython",
    "version": 3
   },
   "file_extension": ".py",
   "mimetype": "text/x-python",
   "name": "python",
   "nbconvert_exporter": "python",
   "pygments_lexer": "ipython3",
   "version": "3.10.12"
  }
 },
 "nbformat": 4,
 "nbformat_minor": 2
}
