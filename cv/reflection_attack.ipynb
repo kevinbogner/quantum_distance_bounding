{
 "cells": [
  {
   "cell_type": "code",
   "execution_count": 1,
   "metadata": {},
   "outputs": [
    {
     "name": "stdout",
     "output_type": "stream",
     "text": [
      "(a=0, b=0) => measure X, then displace+measure X: 1.0000\n",
      "(a=1, b=1) => measure P, then displace+measure P: 1.0000\n",
      "(a=0, b=1) => measure X, then displace+measure P: 0.0055\n",
      "(a=1, b=0) => measure P, then displace+measure X: -0.0074\n"
     ]
    }
   ],
   "source": [
    "import strawberryfields as sf\n",
    "from strawberryfields.ops import S2gate, Dgate, MeasureX, MeasureP\n",
    "import numpy as np\n",
    "\n",
    "def calculate_covariance(X, Y):\n",
    "    return np.mean(X * Y) - np.mean(X)*np.mean(Y)\n",
    "\n",
    "def calculate_correlation(X, Y):\n",
    "    cov = calculate_covariance(X, Y)\n",
    "    std_X = np.sqrt(np.mean(X**2) - np.mean(X)**2)\n",
    "    std_Y = np.sqrt(np.mean(Y**2) - np.mean(Y)**2)\n",
    "    return cov / (std_X * std_Y) if (std_X>0 and std_Y>0) else np.nan\n",
    "\n",
    "num_runs = 100000\n",
    "r = 10.0\n",
    "\n",
    "a = np.random.randint(0, 2, size=num_runs)\n",
    "b = np.random.randint(0, 2, size=num_runs)\n",
    "\n",
    "M_meas = []\n",
    "M_prime_meas = []\n",
    "\n",
    "for i in range(num_runs):\n",
    "    eng = sf.Engine(\"gaussian\")\n",
    "    prog = sf.Program(2)\n",
    "\n",
    "    with prog.context as q:\n",
    "        S2gate(r) | (q[0], q[1])\n",
    "        (MeasureX if a[i] == 0 else MeasureP) | q[0]\n",
    "        (MeasureX if b[i] == 0 else MeasureP) | q[1]\n",
    "\n",
    "    result = eng.run(prog)\n",
    "    M_val = result.samples[0][0]\n",
    "    M_prime_val = result.samples[0][1]\n",
    "\n",
    "    M_meas.append(M_val)\n",
    "    M_prime_meas.append(M_prime_val)\n",
    "\n",
    "M_meas = np.array(M_meas)\n",
    "M_prime_meas = np.array(M_prime_meas)\n",
    "\n",
    "idx_00 = np.where((a == 0) & (b == 0))[0]\n",
    "idx_11 = np.where((a == 1) & (b == 1))[0]\n",
    "idx_01 = np.where((a == 0) & (b == 1))[0]\n",
    "idx_10 = np.where((a == 1) & (b == 0))[0]\n",
    "\n",
    "\n",
    "corr_00 = calculate_correlation(np.abs(M_meas[idx_00]), np.abs(M_prime_meas[idx_00]))\n",
    "corr_11 = calculate_correlation(np.abs(M_meas[idx_11]), np.abs(M_prime_meas[idx_11]))\n",
    "corr_01 = calculate_correlation(np.abs(M_meas[idx_01]), np.abs(M_prime_meas[idx_01]))\n",
    "corr_10 = calculate_correlation(np.abs(M_meas[idx_10]), np.abs(M_prime_meas[idx_10]))\n",
    "\n",
    "print(f\"(a=0, b=0) => measure X, then displace+measure X: {corr_00:.4f}\")\n",
    "print(f\"(a=1, b=1) => measure P, then displace+measure P: {corr_11:.4f}\")\n",
    "print(f\"(a=0, b=1) => measure X, then displace+measure P: {corr_01:.4f}\")\n",
    "print(f\"(a=1, b=0) => measure P, then displace+measure X: {corr_10:.4f}\")\n"
   ]
  }
 ],
 "metadata": {
  "kernelspec": {
   "display_name": "strawberryfields_env",
   "language": "python",
   "name": "python3"
  },
  "language_info": {
   "codemirror_mode": {
    "name": "ipython",
    "version": 3
   },
   "file_extension": ".py",
   "mimetype": "text/x-python",
   "name": "python",
   "nbconvert_exporter": "python",
   "pygments_lexer": "ipython3",
   "version": "3.10.12"
  }
 },
 "nbformat": 4,
 "nbformat_minor": 2
}
